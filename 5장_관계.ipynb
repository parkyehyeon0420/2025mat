{
  "nbformat": 4,
  "nbformat_minor": 0,
  "metadata": {
    "colab": {
      "provenance": [],
      "authorship_tag": "ABX9TyPypBdGJH9cdWQ9Ob1FGjTV",
      "include_colab_link": true
    },
    "kernelspec": {
      "name": "python3",
      "display_name": "Python 3"
    },
    "language_info": {
      "name": "python"
    }
  },
  "cells": [
    {
      "cell_type": "markdown",
      "metadata": {
        "id": "view-in-github",
        "colab_type": "text"
      },
      "source": [
        "<a href=\"https://colab.research.google.com/github/parkyehyeon0420/2025mat/blob/main/5%EC%9E%A5_%EA%B4%80%EA%B3%84.ipynb\" target=\"_parent\"><img src=\"https://colab.research.google.com/assets/colab-badge.svg\" alt=\"Open In Colab\"/></a>"
      ]
    },
    {
      "cell_type": "code",
      "execution_count": 1,
      "metadata": {
        "id": "IOc4ZbqgIuy4",
        "colab": {
          "base_uri": "https://localhost:8080/"
        },
        "outputId": "b75823f2-268c-4ce1-b1a9-5dc9cec50819"
      },
      "outputs": [
        {
          "output_type": "stream",
          "name": "stdout",
          "text": [
            "관계 R: {(2, 3), (3, 2), (1, 2), (3, 4)}\n"
          ]
        }
      ],
      "source": [
        "A=  {1,2,3}\n",
        "B= {2,3,4}\n",
        "R={(1,2),(2,3),(3,2),(3,4)}\n",
        "\n",
        "print(\"관계 R:\",R)"
      ]
    },
    {
      "cell_type": "code",
      "source": [
        "import numpy as np\n",
        "A_list = sorted(A)\n",
        "B_list = sorted(B)\n",
        "\n",
        "relation_matrix = np.zeros((len(A_list),len(B_list)), dtype=int)\n",
        "\n",
        "for i,a in enumerate(A_list):\n",
        "  for j, b in enumerate(B_list):\n",
        "    if (a,b) in R:\n",
        "      relation_matrix[i,j] = 1\n",
        "\n",
        "print(\"관계 행렬(rows:A,columns:B):\")\n",
        "print(relation_matrix)"
      ],
      "metadata": {
        "colab": {
          "base_uri": "https://localhost:8080/"
        },
        "id": "fj-reyoBabur",
        "outputId": "4ff4d479-419d-4cae-f83b-10769a06508f"
      },
      "execution_count": 2,
      "outputs": [
        {
          "output_type": "stream",
          "name": "stdout",
          "text": [
            "관계 행렬(rows:A,columns:B):\n",
            "[[1 0 0]\n",
            " [0 1 0]\n",
            " [1 0 1]]\n"
          ]
        }
      ]
    },
    {
      "cell_type": "code",
      "source": [
        "C={'x','y'}\n",
        "S={(2,'x'),(3,'y'),(4,'x')}\n",
        "\n",
        "composed_relation= set()\n",
        "\n",
        "for(a,b1) in R:\n",
        "  for (b2,c) in S:\n",
        "    if b1 ==b2:\n",
        "      composed_relation.add((a,c))\n",
        "\n",
        "print(\"\\n합성 관계 R ∘ S:\", composed_relation)"
      ],
      "metadata": {
        "colab": {
          "base_uri": "https://localhost:8080/"
        },
        "id": "z40skMGjfbnz",
        "outputId": "4cdbc847-b834-4491-8f0c-7931c4f2642f"
      },
      "execution_count": 3,
      "outputs": [
        {
          "output_type": "stream",
          "name": "stdout",
          "text": [
            "\n",
            "합성 관계 R ∘ S {(3, 'x'), (2, 'y'), (1, 'x')}\n"
          ]
        }
      ]
    }
  ]
}