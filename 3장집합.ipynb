{
  "nbformat": 4,
  "nbformat_minor": 0,
  "metadata": {
    "colab": {
      "provenance": [],
      "authorship_tag": "ABX9TyMtrsL068Y9M3F+nL6EG4po",
      "include_colab_link": true
    },
    "kernelspec": {
      "name": "python3",
      "display_name": "Python 3"
    },
    "language_info": {
      "name": "python"
    }
  },
  "cells": [
    {
      "cell_type": "markdown",
      "metadata": {
        "id": "view-in-github",
        "colab_type": "text"
      },
      "source": [
        "<a href=\"https://colab.research.google.com/github/parkyehyeon0420/2025mat/blob/main/3%EC%9E%A5%EC%A7%91%ED%95%A9.ipynb\" target=\"_parent\"><img src=\"https://colab.research.google.com/assets/colab-badge.svg\" alt=\"Open In Colab\"/></a>"
      ]
    },
    {
      "cell_type": "code",
      "execution_count": null,
      "metadata": {
        "colab": {
          "base_uri": "https://localhost:8080/"
        },
        "id": "HcGWgHQ3zy8w",
        "outputId": "21924344-b21a-4f60-8080-d5dadefc3a63"
      },
      "outputs": [
        {
          "output_type": "stream",
          "name": "stdout",
          "text": [
            "{1, 2, 3}\n",
            "{2, 3}\n",
            "{1, 2, 3, 4}\n",
            "{1}\n"
          ]
        }
      ],
      "source": [
        "s1=set([1,2,3])\n",
        "print (s1)\n",
        "s2=set([2,3,4])\n",
        "\n",
        "print(s1&s2)\n",
        "print(s1|s2).\n",
        "print(s1-s2)"
      ]
    },
    {
      "cell_type": "code",
      "source": [
        "#두 은행의 고객 집합 선언\n",
        "bAc=set([\"김철수\",\"이영희\",\"박민수\",\"최지우\"])\n",
        "bBc=set([\"이영희\",\"최지우\",\"정우성\",\"한지민\"])\n",
        "\n",
        "print(\"은행 A 고객:\",bAc)\n",
        "print(\"은행 B 고객:\",bBc)\n",
        "\n",
        "#두 은행의 전체 고객 집합(합집합)\n",
        "tot_c=bAc | bBc\n",
        "print(\"합병 후 전체 고객\",tot_c)\n",
        "\n",
        "#두 은행 모두에 있는 공통 고객(교집합)\n",
        "com_c = bAc&bBc\n",
        "print(\"공통 고객:\",com_c)\n",
        "\n",
        "#A만 (차집합)\n",
        "only_Ac=bAc-bBc\n",
        "print(\"A에만 있는 고객:\",only_Ac)\n",
        "\n",
        "#B만 (차집합)\n",
        "only_Bc=bBc-bAc\n",
        "print(\"B에만 있는 고객:\",only_Bc)\n",
        "\n"
      ],
      "metadata": {
        "id": "Oy4VyqEW2yLW",
        "colab": {
          "base_uri": "https://localhost:8080/"
        },
        "outputId": "c15d79d4-ae64-4a3a-dedf-9da0350faf40"
      },
      "execution_count": 1,
      "outputs": [
        {
          "output_type": "stream",
          "name": "stdout",
          "text": [
            "은행 A 고객: {'이영희', '최지우', '박민수', '김철수'}\n",
            "은행 B 고객: {'이영희', '최지우', '정우성', '한지민'}\n",
            "합병 후 전체 고객 {'한지민', '김철수', '최지우', '박민수', '이영희', '정우성'}\n",
            "공통 고객: {'이영희', '최지우'}\n",
            "A에만 있는 고객: {'박민수', '김철수'}\n",
            "B에만 있는 고객: {'정우성', '한지민'}\n"
          ]
        }
      ]
    },
    {
      "cell_type": "code",
      "source": [
        "import numpy as np\n",
        "\n",
        "#12가지 파버카스텔 색연필 색상 집합 (RGB 값 예시)\n",
        "fcc={\n",
        "    \"White\": (255,255,255),\n",
        "    \"Black\": (0,0,0),\n",
        "    \"Brown\": (150,75,0),\n",
        "    \"Orange\": (255,127,0),\n",
        "    \"Red\": (255,0,0),\n",
        "    \"Yellow\": (255,255,0),\n",
        "    \"Light Green\": (0,255,0),\n",
        "    \"Green\": (0,128,0),\n",
        "    \"Light Blue\": (0,255,255),\n",
        "    \"Blue\": (0,0,255),\n",
        "    \"Purple\": (128,0,128),\n",
        "    \"Pink\": (255,192,203),\n",
        "}\n",
        "# 입력 색상 (예: 사용자 입력값)\n",
        "input_color = (120,100,200)\n",
        "\n",
        "def find_nearest_color(input_rgb, color_set):\n",
        "  min_dist = float('inf')\n",
        "  nearest_name = None\n",
        "  for name, rgb in color_set.items():\n",
        "    dist = np.sqrt(sum((a-b)**2 for a,b in zip(input_rgb, rgb)))\n",
        "    if dist<min_dist:\n",
        "      min_dist=dist\n",
        "      nearest_name=name\n",
        "  return nearest_name, color_set[nearest_name]\n",
        "\n",
        "nearest_name, nearest_rgb=find_nearest_color(input_color, fcc)\n",
        "\n",
        "print(f\"입력 색상:{input_color}\")\n",
        "print(f\"가장 가까운 파버카스텔 색상:{nearest_name}, RGB: {nearest_rgb}\")"
      ],
      "metadata": {
        "colab": {
          "base_uri": "https://localhost:8080/"
        },
        "id": "OhLP7Xm2W4pX",
        "outputId": "0f2266cf-8f62-401b-d4a9-137a34824f23"
      },
      "execution_count": 2,
      "outputs": [
        {
          "output_type": "stream",
          "name": "stdout",
          "text": [
            "입력 색상:(120, 100, 200)\n",
            "가장 가까운 파버카스텔 색상:Purple, RGB: (128, 0, 128)\n"
          ]
        }
      ]
    },
    {
      "cell_type": "code",
      "source": [],
      "metadata": {
        "id": "JKYL1c9zZ9xw"
      },
      "execution_count": null,
      "outputs": []
    }
  ]
}